{
 "cells": [
  {
   "cell_type": "code",
   "execution_count": 1,
   "metadata": {},
   "outputs": [],
   "source": [
    "import pandas as pd\n",
    "df=pd.read_csv(\"incomplete.csv\")"
   ]
  },
  {
   "cell_type": "code",
   "execution_count": 2,
   "metadata": {},
   "outputs": [
    {
     "data": {
      "text/html": [
       "<div>\n",
       "<style scoped>\n",
       "    .dataframe tbody tr th:only-of-type {\n",
       "        vertical-align: middle;\n",
       "    }\n",
       "\n",
       "    .dataframe tbody tr th {\n",
       "        vertical-align: top;\n",
       "    }\n",
       "\n",
       "    .dataframe thead th {\n",
       "        text-align: right;\n",
       "    }\n",
       "</style>\n",
       "<table border=\"1\" class=\"dataframe\">\n",
       "  <thead>\n",
       "    <tr style=\"text-align: right;\">\n",
       "      <th></th>\n",
       "      <th>Unnamed: 0</th>\n",
       "      <th>Unnamed: 0.1</th>\n",
       "      <th>Title</th>\n",
       "      <th>Attributes</th>\n",
       "    </tr>\n",
       "  </thead>\n",
       "  <tbody>\n",
       "    <tr>\n",
       "      <th>0</th>\n",
       "      <td>0</td>\n",
       "      <td>0</td>\n",
       "      <td>avatar</td>\n",
       "      <td>avatar 2009 Action Adventure Fantasy Sci-Fi  J...</td>\n",
       "    </tr>\n",
       "    <tr>\n",
       "      <th>1</th>\n",
       "      <td>1</td>\n",
       "      <td>1</td>\n",
       "      <td>pirates of the caribbean: at world's end</td>\n",
       "      <td>pirates of the caribbean: at world's end 2007 ...</td>\n",
       "    </tr>\n",
       "    <tr>\n",
       "      <th>2</th>\n",
       "      <td>2</td>\n",
       "      <td>2</td>\n",
       "      <td>spectre</td>\n",
       "      <td>spectre 2015 Action Adventure Thriller  SamMen...</td>\n",
       "    </tr>\n",
       "    <tr>\n",
       "      <th>3</th>\n",
       "      <td>3</td>\n",
       "      <td>3</td>\n",
       "      <td>the dark knight rises</td>\n",
       "      <td>the dark knight rises 2012 Action Crime Drama ...</td>\n",
       "    </tr>\n",
       "    <tr>\n",
       "      <th>4</th>\n",
       "      <td>4</td>\n",
       "      <td>4</td>\n",
       "      <td>john carter</td>\n",
       "      <td>john carter 2012 Action Adventure Sci-Fi  Andr...</td>\n",
       "    </tr>\n",
       "  </tbody>\n",
       "</table>\n",
       "</div>"
      ],
      "text/plain": [
       "   Unnamed: 0  Unnamed: 0.1                                     Title  \\\n",
       "0           0             0                                    avatar   \n",
       "1           1             1  pirates of the caribbean: at world's end   \n",
       "2           2             2                                   spectre   \n",
       "3           3             3                     the dark knight rises   \n",
       "4           4             4                               john carter   \n",
       "\n",
       "                                          Attributes  \n",
       "0  avatar 2009 Action Adventure Fantasy Sci-Fi  J...  \n",
       "1  pirates of the caribbean: at world's end 2007 ...  \n",
       "2  spectre 2015 Action Adventure Thriller  SamMen...  \n",
       "3  the dark knight rises 2012 Action Crime Drama ...  \n",
       "4  john carter 2012 Action Adventure Sci-Fi  Andr...  "
      ]
     },
     "execution_count": 2,
     "metadata": {},
     "output_type": "execute_result"
    }
   ],
   "source": [
    "df.head()"
   ]
  },
  {
   "cell_type": "code",
   "execution_count": 3,
   "metadata": {},
   "outputs": [],
   "source": [
    "from tmdbv3api import TMDb\n",
    "tmdb = TMDb()\n",
    "tmdb.api_key = 'ef83cac599a8b6b59be433cffe4aa715'"
   ]
  },
  {
   "cell_type": "code",
   "execution_count": 4,
   "metadata": {},
   "outputs": [],
   "source": [
    "tmdb.language = 'en'\n",
    "tmdb.debug = True\n"
   ]
  },
  {
   "cell_type": "code",
   "execution_count": 5,
   "metadata": {},
   "outputs": [],
   "source": [
    "from tmdbv3api import Movie\n",
    "\n",
    "movie = Movie()"
   ]
  },
  {
   "cell_type": "code",
   "execution_count": 10,
   "metadata": {},
   "outputs": [
    {
     "name": "stdout",
     "output_type": "stream",
     "text": [
      "Avatar is an overwhelming, immersive spectacle. The state-of-the-art 3D technology draws us in, but it is the vivid weirdness of Cameron's luridly imagined tropical other world that keeps us fascinated. I like this film and I have written many review for <a href=\"https://domywriting.com/\">essay writing service</a>. The special effects are so good here that you don't even notice them. It is eerie how Cameron has made it look and feel like he is just pointing a camera at the action.\n",
      "It's cinema Jim, but not as we know it. \r\n",
      "\r\n",
      "So here it is then, what has been in gestation in James Cameron's mind for over 12 years finally hit the silver screen towards the back end of 2009. Made for gazillions amount of cash, Avatar went on to make a billion trillion in Worldwide receipts-and this before the rush rush release of DVD/BLU RAY sales are factored into the equation. The film, and all its technical wizardry, is quite simply a gargantuan piece of cinematic history. Released in 2d and 3d, and probably some other format that I'm forgetting, every advanced tool of the trade has been utilised by Cameron and his team to create what is now the ultimate popcorn blockbuster. Shame then, that away from the visual extravaganza the film is as shallow as this review will ultimately end up being.\r\n",
      "\r\n",
      "No doubt about it, this is a joy for the eyes and ears, the minuscule details are wonderful and the colour positively pings from every frame. But in the eagerness to create such splendour they forgot to put any substance into the writing. This is plot simplicity. And even its messages, as Cameron smugly preaches his sermon from the pulpit, now seem old hat. Do we really need another boink over the head about eco invasion? Or a curt reminder of American infiltration into some land where motives are suspicious at best? No we don't really do we? Worse still is some of the dialogue, which quite frankly could have come from some playground encounter as the kiddies play kiss chase or bang bang your dead army. There's also a sense of familiarity with other better scripted film's, Dances *cough* With *cough* Wolves *cough* It's as if Cameron just knew that narrative structure wasn't as important as having the expensive gimmicks. He's like a modern day William Castle-only with considerably more readies at his disposal.\r\n",
      "\r\n",
      "The cast are OK, Zoe Saldana puts a sexy feistiness to her blue alien Neytiri, Sam Worthington keeps the humanistic elements just about above water, while Sigourney Weaver is as ever the consummate professional. But ironically, in a film shimmering bright in 2d & 3d, the characters are all one dimensional. None more so than Stephen \"The Party Crasher\" Lang's Colonel. A man so gruff and gung-ho menacing he really ought to be in Sly Stallone's upcoming testo movie The Expendables. Nominated for nine Academy Awards, including Best Picture and Best Director, it won three, for Best Cinematography, Best Visual Effects, and Best Art Direction. Those were richly deserved. They also tell us all we need to now about Cameron's Behemoth. 5/10\n"
     ]
    }
   ],
   "source": [
    "search = movie.search('avatar')[0]['id']\n",
    "r=movie.reviews(search)\n",
    "for i in r:\n",
    "    print(i['content'])"
   ]
  },
  {
   "cell_type": "code",
   "execution_count": 40,
   "metadata": {},
   "outputs": [],
   "source": [
    "def production(x):\n",
    "    try:\n",
    "        search=movie.search(x)[0]['id']\n",
    "        p=movie.details(search)['production_companies']\n",
    "        return p[0]['name']\n",
    "    except:\n",
    "        return \"Unknown\""
   ]
  },
  {
   "cell_type": "code",
   "execution_count": 41,
   "metadata": {},
   "outputs": [
    {
     "name": "stdout",
     "output_type": "stream",
     "text": [
      "Gabriel's Inferno Part III  :  PassionFlix\n",
      "Gabriel's Inferno Part II  :  PassionFlix\n",
      "Dilwale Dulhania Le Jayenge  :  Yash Raj Films\n",
      "The Shawshank Redemption  :  Castle Rock Entertainment\n",
      "Gabriel's Inferno  :  PassionFlix\n",
      "The Godfather  :  Paramount\n",
      "Wolfwalkers  :  Cartoon Saloon\n",
      "Raya and the Last Dragon  :  Walt Disney Pictures\n",
      "Schindler's List  :  Universal Pictures\n",
      "Your Name.  :  Bad Robot\n",
      "The Godfather: Part II  :  Paramount\n",
      "Rascal Does Not Dream of a Dreaming Girl  :  CloverWorks\n",
      "Spirited Away  :  Unknown\n",
      "Parasite  :  Unknown\n",
      "Dedicated to my ex  :  Touché Films\n",
      "The Green Mile  :  Castle Rock Entertainment\n",
      "Hamilton  :  Walt Disney Pictures\n",
      "Pulp Fiction  :  Miramax\n",
      "Miraculous World: New York, United HeroeZ  :  Unknown\n",
      "12 Angry Men  :  United Artists\n"
     ]
    }
   ],
   "source": [
    "popular = movie.top_rated()\n",
    "for p in popular:\n",
    "    print(p.title,\" : \",production(p.title))"
   ]
  },
  {
   "cell_type": "code",
   "execution_count": 42,
   "metadata": {},
   "outputs": [],
   "source": [
    "d1=df.iloc[0:2000,:]"
   ]
  },
  {
   "cell_type": "code",
   "execution_count": 43,
   "metadata": {},
   "outputs": [
    {
     "name": "stderr",
     "output_type": "stream",
     "text": [
      "C:\\Users\\RAHUL KUMAR\\Anaconda3\\lib\\site-packages\\ipykernel_launcher.py:1: SettingWithCopyWarning: \n",
      "A value is trying to be set on a copy of a slice from a DataFrame.\n",
      "Try using .loc[row_indexer,col_indexer] = value instead\n",
      "\n",
      "See the caveats in the documentation: https://pandas.pydata.org/pandas-docs/stable/user_guide/indexing.html#returning-a-view-versus-a-copy\n",
      "  \"\"\"Entry point for launching an IPython kernel.\n"
     ]
    }
   ],
   "source": [
    "d1['production']= d1['Title'].map(lambda x: production(str(x)))"
   ]
  },
  {
   "cell_type": "code",
   "execution_count": 44,
   "metadata": {},
   "outputs": [
    {
     "data": {
      "text/html": [
       "<div>\n",
       "<style scoped>\n",
       "    .dataframe tbody tr th:only-of-type {\n",
       "        vertical-align: middle;\n",
       "    }\n",
       "\n",
       "    .dataframe tbody tr th {\n",
       "        vertical-align: top;\n",
       "    }\n",
       "\n",
       "    .dataframe thead th {\n",
       "        text-align: right;\n",
       "    }\n",
       "</style>\n",
       "<table border=\"1\" class=\"dataframe\">\n",
       "  <thead>\n",
       "    <tr style=\"text-align: right;\">\n",
       "      <th></th>\n",
       "      <th>Unnamed: 0</th>\n",
       "      <th>Unnamed: 0.1</th>\n",
       "      <th>Title</th>\n",
       "      <th>Year</th>\n",
       "      <th>genres</th>\n",
       "      <th>director</th>\n",
       "      <th>cast</th>\n",
       "      <th>production</th>\n",
       "    </tr>\n",
       "  </thead>\n",
       "  <tbody>\n",
       "    <tr>\n",
       "      <th>0</th>\n",
       "      <td>0</td>\n",
       "      <td>0</td>\n",
       "      <td>avatar</td>\n",
       "      <td>2009.0</td>\n",
       "      <td>Action Adventure Fantasy Science Fiction</td>\n",
       "      <td>James Cameron</td>\n",
       "      <td>Sam Worthington, Zoe Saldana, Sigourney Weaver,</td>\n",
       "      <td>Dune Entertainment</td>\n",
       "    </tr>\n",
       "    <tr>\n",
       "      <th>1</th>\n",
       "      <td>1</td>\n",
       "      <td>1</td>\n",
       "      <td>pirates of the caribbean: at world's end</td>\n",
       "      <td>2007.0</td>\n",
       "      <td>Adventure Fantasy Action</td>\n",
       "      <td>Gore Verbinski</td>\n",
       "      <td>Johnny Depp, Orlando Bloom, Keira Knightley,</td>\n",
       "      <td>Jerry Bruckheimer Films</td>\n",
       "    </tr>\n",
       "    <tr>\n",
       "      <th>2</th>\n",
       "      <td>2</td>\n",
       "      <td>2</td>\n",
       "      <td>spectre</td>\n",
       "      <td>2015.0</td>\n",
       "      <td>Action Adventure Thriller</td>\n",
       "      <td>Sam Mendes</td>\n",
       "      <td>Daniel Craig, Christoph Waltz, Léa Seydoux,</td>\n",
       "      <td>Danjaq</td>\n",
       "    </tr>\n",
       "    <tr>\n",
       "      <th>3</th>\n",
       "      <td>3</td>\n",
       "      <td>3</td>\n",
       "      <td>the dark knight rises</td>\n",
       "      <td>2012.0</td>\n",
       "      <td>Action Crime Drama Thriller</td>\n",
       "      <td>Christopher Nolan</td>\n",
       "      <td>Christian Bale, Michael Caine, Gary Oldman,</td>\n",
       "      <td>Syncopy</td>\n",
       "    </tr>\n",
       "    <tr>\n",
       "      <th>4</th>\n",
       "      <td>4</td>\n",
       "      <td>4</td>\n",
       "      <td>john carter</td>\n",
       "      <td>2012.0</td>\n",
       "      <td>Action Adventure Science Fiction</td>\n",
       "      <td>Andrew Stanton</td>\n",
       "      <td>Taylor Kitsch, Lynn Collins, Samantha Morton,</td>\n",
       "      <td>Walt Disney Pictures</td>\n",
       "    </tr>\n",
       "    <tr>\n",
       "      <th>...</th>\n",
       "      <td>...</td>\n",
       "      <td>...</td>\n",
       "      <td>...</td>\n",
       "      <td>...</td>\n",
       "      <td>...</td>\n",
       "      <td>...</td>\n",
       "      <td>...</td>\n",
       "      <td>...</td>\n",
       "    </tr>\n",
       "    <tr>\n",
       "      <th>1995</th>\n",
       "      <td>1995</td>\n",
       "      <td>2016</td>\n",
       "      <td>the adventurer: the curse of the midas box</td>\n",
       "      <td>2013.0</td>\n",
       "      <td>Fantasy Adventure Family</td>\n",
       "      <td>Jonathan Newman</td>\n",
       "      <td>Aneurin Barnard, Michael Sheen, Lena Headey,</td>\n",
       "      <td>Umedia</td>\n",
       "    </tr>\n",
       "    <tr>\n",
       "      <th>1996</th>\n",
       "      <td>1996</td>\n",
       "      <td>2017</td>\n",
       "      <td>anywhere but here</td>\n",
       "      <td>1999.0</td>\n",
       "      <td>Drama Comedy Romance</td>\n",
       "      <td>Wayne Wang</td>\n",
       "      <td>Susan Sarandon, Natalie Portman, Hart Bochner,</td>\n",
       "      <td>Fox 2000 Pictures</td>\n",
       "    </tr>\n",
       "    <tr>\n",
       "      <th>1997</th>\n",
       "      <td>1997</td>\n",
       "      <td>2019</td>\n",
       "      <td>the crew</td>\n",
       "      <td>2000.0</td>\n",
       "      <td>Drama Action Thriller Crime</td>\n",
       "      <td>Adrian Vitoria</td>\n",
       "      <td>Scot Williams, Kenny Doughty, Rory McCann,</td>\n",
       "      <td>Unknown</td>\n",
       "    </tr>\n",
       "    <tr>\n",
       "      <th>1998</th>\n",
       "      <td>1998</td>\n",
       "      <td>2020</td>\n",
       "      <td>haywire</td>\n",
       "      <td>2011.0</td>\n",
       "      <td>Action Drama Thriller</td>\n",
       "      <td>Steven Soderbergh</td>\n",
       "      <td>Gina Carano, Ewan McGregor, Michael Fassbender,</td>\n",
       "      <td>Relativity Media</td>\n",
       "    </tr>\n",
       "    <tr>\n",
       "      <th>1999</th>\n",
       "      <td>1999</td>\n",
       "      <td>2021</td>\n",
       "      <td>jaws: the revenge</td>\n",
       "      <td>1987.0</td>\n",
       "      <td>Adventure Thriller Horror</td>\n",
       "      <td>Joseph Sargent</td>\n",
       "      <td>Lorraine Gary, Lance Guest, Mario Van Peebles,</td>\n",
       "      <td>Universal Pictures</td>\n",
       "    </tr>\n",
       "  </tbody>\n",
       "</table>\n",
       "<p>2000 rows × 8 columns</p>\n",
       "</div>"
      ],
      "text/plain": [
       "      Unnamed: 0  Unnamed: 0.1                                       Title  \\\n",
       "0              0             0                                      avatar   \n",
       "1              1             1    pirates of the caribbean: at world's end   \n",
       "2              2             2                                     spectre   \n",
       "3              3             3                       the dark knight rises   \n",
       "4              4             4                                 john carter   \n",
       "...          ...           ...                                         ...   \n",
       "1995        1995          2016  the adventurer: the curse of the midas box   \n",
       "1996        1996          2017                           anywhere but here   \n",
       "1997        1997          2019                                    the crew   \n",
       "1998        1998          2020                                     haywire   \n",
       "1999        1999          2021                           jaws: the revenge   \n",
       "\n",
       "        Year                                     genres           director  \\\n",
       "0     2009.0  Action Adventure Fantasy Science Fiction       James Cameron   \n",
       "1     2007.0                  Adventure Fantasy Action      Gore Verbinski   \n",
       "2     2015.0                 Action Adventure Thriller          Sam Mendes   \n",
       "3     2012.0               Action Crime Drama Thriller   Christopher Nolan   \n",
       "4     2012.0          Action Adventure Science Fiction      Andrew Stanton   \n",
       "...      ...                                        ...                ...   \n",
       "1995  2013.0                  Fantasy Adventure Family     Jonathan Newman   \n",
       "1996  1999.0                      Drama Comedy Romance          Wayne Wang   \n",
       "1997  2000.0               Drama Action Thriller Crime      Adrian Vitoria   \n",
       "1998  2011.0                     Action Drama Thriller   Steven Soderbergh   \n",
       "1999  1987.0                 Adventure Thriller Horror      Joseph Sargent   \n",
       "\n",
       "                                                  cast  \\\n",
       "0     Sam Worthington, Zoe Saldana, Sigourney Weaver,    \n",
       "1        Johnny Depp, Orlando Bloom, Keira Knightley,    \n",
       "2         Daniel Craig, Christoph Waltz, Léa Seydoux,    \n",
       "3         Christian Bale, Michael Caine, Gary Oldman,    \n",
       "4       Taylor Kitsch, Lynn Collins, Samantha Morton,    \n",
       "...                                                ...   \n",
       "1995     Aneurin Barnard, Michael Sheen, Lena Headey,    \n",
       "1996   Susan Sarandon, Natalie Portman, Hart Bochner,    \n",
       "1997       Scot Williams, Kenny Doughty, Rory McCann,    \n",
       "1998  Gina Carano, Ewan McGregor, Michael Fassbender,    \n",
       "1999   Lorraine Gary, Lance Guest, Mario Van Peebles,    \n",
       "\n",
       "                   production  \n",
       "0          Dune Entertainment  \n",
       "1     Jerry Bruckheimer Films  \n",
       "2                      Danjaq  \n",
       "3                     Syncopy  \n",
       "4        Walt Disney Pictures  \n",
       "...                       ...  \n",
       "1995                   Umedia  \n",
       "1996        Fox 2000 Pictures  \n",
       "1997                  Unknown  \n",
       "1998         Relativity Media  \n",
       "1999       Universal Pictures  \n",
       "\n",
       "[2000 rows x 8 columns]"
      ]
     },
     "execution_count": 44,
     "metadata": {},
     "output_type": "execute_result"
    }
   ],
   "source": [
    "d1"
   ]
  },
  {
   "cell_type": "code",
   "execution_count": 45,
   "metadata": {},
   "outputs": [
    {
     "data": {
      "text/plain": [
       "(3739, 7)"
      ]
     },
     "execution_count": 45,
     "metadata": {},
     "output_type": "execute_result"
    }
   ],
   "source": [
    "d2=df.iloc[2000:,:]\n",
    "d2.shape"
   ]
  },
  {
   "cell_type": "code",
   "execution_count": 46,
   "metadata": {},
   "outputs": [
    {
     "name": "stderr",
     "output_type": "stream",
     "text": [
      "C:\\Users\\RAHUL KUMAR\\Anaconda3\\lib\\site-packages\\ipykernel_launcher.py:1: SettingWithCopyWarning: \n",
      "A value is trying to be set on a copy of a slice from a DataFrame.\n",
      "Try using .loc[row_indexer,col_indexer] = value instead\n",
      "\n",
      "See the caveats in the documentation: https://pandas.pydata.org/pandas-docs/stable/user_guide/indexing.html#returning-a-view-versus-a-copy\n",
      "  \"\"\"Entry point for launching an IPython kernel.\n"
     ]
    }
   ],
   "source": [
    "d2['production']= d2['Title'].map(lambda x: production(str(x)))"
   ]
  },
  {
   "cell_type": "code",
   "execution_count": 47,
   "metadata": {},
   "outputs": [],
   "source": [
    "df3=pd.concat([d1,d2])"
   ]
  }
 ],
 "metadata": {
  "kernelspec": {
   "display_name": "quantum",
   "language": "python",
   "name": "quantum"
  },
  "language_info": {
   "codemirror_mode": {
    "name": "ipython",
    "version": 3
   },
   "file_extension": ".py",
   "mimetype": "text/x-python",
   "name": "python",
   "nbconvert_exporter": "python",
   "pygments_lexer": "ipython3",
   "version": "3.7.7"
  }
 },
 "nbformat": 4,
 "nbformat_minor": 4
}
